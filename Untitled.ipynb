{
 "cells": [
  {
   "cell_type": "code",
   "execution_count": 1,
   "id": "e6e55668-f3c8-4b03-8cb9-b47c20259652",
   "metadata": {},
   "outputs": [],
   "source": [
    "import numpy as np \n",
    "\n"
   ]
  },
  {
   "cell_type": "code",
   "execution_count": 3,
   "id": "30364a29-5104-4251-8a7e-80ae7a3033e6",
   "metadata": {},
   "outputs": [
    {
     "data": {
      "text/plain": [
       "'/home/batraevr/Projecrts/adrl_hw6/Decision-Transformer-with-Memory-for-POMDPs'"
      ]
     },
     "execution_count": 3,
     "metadata": {},
     "output_type": "execute_result"
    }
   ],
   "source": [
    "pwd"
   ]
  },
  {
   "cell_type": "code",
   "execution_count": 5,
   "id": "dab376dc-f211-424a-9b13-086f48077a87",
   "metadata": {},
   "outputs": [
    {
     "name": "stdout",
     "output_type": "stream",
     "text": [
      "Loaded memory_dt_velocity_cartpole_gru_metrics.npz with arrays: ['train_losses', 'val_returns']\n",
      "Loaded memory_dt_velocity_cartpole_lstm_metrics.npz with arrays: ['train_losses', 'val_returns']\n",
      "Loaded memory_dt_velocity_cartpole_none_metrics.npz with arrays: ['train_losses', 'val_returns']\n",
      "Loaded memory_dt_velocity_cartpole_ffm_metrics.npz with arrays: ['train_losses', 'val_returns']\n"
     ]
    }
   ],
   "source": [
    "import numpy as np\n",
    "import os\n",
    "\n",
    "# Define the directory containing .npz files\n",
    "directory = 'models/'\n",
    "\n",
    "# Dictionary to store loaded data from each file\n",
    "loaded_data = {}\n",
    "\n",
    "# Loop through all .npz files in the directory\n",
    "for filename in os.listdir(directory):\n",
    "    if filename.endswith('.npz'):\n",
    "        file_path = os.path.join(directory, filename)\n",
    "        # Load the .npz file\n",
    "        data = np.load(file_path)\n",
    "        # Store in dictionary with filename (without extension) as key\n",
    "        key_name = os.path.splitext(filename)[0]\n",
    "        loaded_data[key_name] = data\n",
    "        print(f\"Loaded {filename} with arrays: {data.files}\")\n"
   ]
  },
  {
   "cell_type": "code",
   "execution_count": 6,
   "id": "890b2cb6-089c-49a2-8f16-38013e383512",
   "metadata": {},
   "outputs": [
    {
     "name": "stdout",
     "output_type": "stream",
     "text": [
      "\n",
      "Arrays in memory_dt_velocity_cartpole_gru_metrics:\n",
      " - train_losses\n",
      " - val_returns\n",
      "\n",
      "Arrays in memory_dt_velocity_cartpole_lstm_metrics:\n",
      " - train_losses\n",
      " - val_returns\n",
      "\n",
      "Arrays in memory_dt_velocity_cartpole_none_metrics:\n",
      " - train_losses\n",
      " - val_returns\n",
      "\n",
      "Arrays in memory_dt_velocity_cartpole_ffm_metrics:\n",
      " - train_losses\n",
      " - val_returns\n"
     ]
    }
   ],
   "source": [
    "for key in loaded_data:\n",
    "    print(f\"\\nArrays in {key}:\")\n",
    "    for arr in loaded_data[key].files:\n",
    "        print(f\" - {arr}\")"
   ]
  },
  {
   "cell_type": "code",
   "execution_count": 11,
   "id": "772f58b1-e773-4aa8-8f80-fa4253dfc459",
   "metadata": {},
   "outputs": [
    {
     "data": {
      "text/plain": [
       "array([ 15.,  15.,  16., 500.,  13.,  15., 500.,  15., 500.,  15.,  15.,\n",
       "       500.,  16.,  13.,  13.,  17.,  15., 500.,  17.,  15.])"
      ]
     },
     "execution_count": 11,
     "metadata": {},
     "output_type": "execute_result"
    }
   ],
   "source": [
    "loaded_data['memory_dt_velocity_cartpole_gru_metrics']['val_returns']"
   ]
  },
  {
   "cell_type": "code",
   "execution_count": null,
   "id": "e6300816-56db-4e2b-aaf3-c2bc99f281df",
   "metadata": {},
   "outputs": [],
   "source": [
    "# Load the .npz file\n",
    "file_path = 'your_file.npz'  # Replace with your actual file path\n",
    "data = np.load(file_path)"
   ]
  },
  {
   "cell_type": "code",
   "execution_count": null,
   "id": "e0451a86-1eda-4009-9986-0fa4c9e24027",
   "metadata": {},
   "outputs": [],
   "source": [
    "\n",
    "\n",
    "# List the arrays contained in the .npz file\n",
    "print(\"Arrays in the .npz file:\")\n",
    "for idx, array_name in enumerate(data.files):\n",
    "    print(f\"{idx}: {array_name} - Shape: {data[array_name].shape}, Type: {data[array_name].dtype}\")\n",
    "\n",
    "# Access and display the first array (as an example)\n",
    "first_array_name = data.files[0]\n",
    "first_array = data[first_array_name]\n",
    "print(f\"\\nContent of the first array '{first_array_name}':\")\n",
    "print(first_array)"
   ]
  },
  {
   "cell_type": "code",
   "execution_count": null,
   "id": "36bafc1d-668d-473c-ab81-2b033f048153",
   "metadata": {},
   "outputs": [],
   "source": []
  }
 ],
 "metadata": {
  "kernelspec": {
   "display_name": "Python 3 (ipykernel)",
   "language": "python",
   "name": "python3"
  },
  "language_info": {
   "codemirror_mode": {
    "name": "ipython",
    "version": 3
   },
   "file_extension": ".py",
   "mimetype": "text/x-python",
   "name": "python",
   "nbconvert_exporter": "python",
   "pygments_lexer": "ipython3",
   "version": "3.11.7"
  }
 },
 "nbformat": 4,
 "nbformat_minor": 5
}
